{
 "cells": [
  {
   "cell_type": "code",
   "execution_count": 3,
   "metadata": {
    "collapsed": true
   },
   "outputs": [
    {
     "name": "stdout",
     "output_type": "stream",
     "text": [
      "['AZ', 'CA', 'CO', 'UT', 'WA']\n2\n"
     ]
    }
   ],
   "source": [
    "#1번 문제\n",
    "w_states = ['CA', 'WA', 'AZ', 'UT', 'CO']\n",
    "e_states = ['NJ','MA','NY','VA','PA']\n",
    "w_states.sort()\n",
    "print(w_states)\n",
    "w_states.append('NV')\n",
    "\n",
    "states = w_states + e_states\n",
    "states_5 = states[:5]\n",
    "states_9 = states[:-2]\n",
    "print(states.index('CO'))"
   ]
  },
  {
   "cell_type": "code",
   "execution_count": 5,
   "metadata": {},
   "outputs": [
    {
     "data": {
      "text/plain": [
       "('AZ', 'CA', 'CO', 'UT', 'WA', 'NV')"
      ]
     },
     "execution_count": 5,
     "metadata": {},
     "output_type": "execute_result"
    }
   ],
   "source": [
    "#2번 문제\n",
    "w_states = ('CA', 'WA', 'AZ', 'UT', 'CO')\n",
    "e_states = ('NJ','MA','NY','VA','PA')\n",
    "w_states = list(w_states)\n",
    "w_states.sort()\n",
    "w_states.append('NV')\n",
    "w_states = tuple(w_states)\n",
    "w_states"
   ]
  },
  {
   "cell_type": "code",
   "execution_count": 6,
   "metadata": {},
   "outputs": [
    {
     "data": {
      "text/plain": [
       "2"
      ]
     },
     "execution_count": 6,
     "metadata": {},
     "output_type": "execute_result"
    }
   ],
   "source": [
    "states = w_states + e_states\n",
    "states_5 = states[:5]\n",
    "states_9 = states[:-2]\n",
    "states.index('CO')"
   ]
  },
  {
   "cell_type": "code",
   "execution_count": 14,
   "metadata": {},
   "outputs": [
    {
     "name": "stdout",
     "output_type": "stream",
     "text": [
      "308.70000000000005\nThe population of Northwest is 55.3\nThe population of Midwest is 66.9\nThe population of South is 114.6\nThe population of West is 71.9\nThe total population of USA is 308.7 million.\n\n\nThe population of Northwest is 55.3\nThe population of Midwest is 66.9\nThe population of South is 114.6\nThe population of West is 71.9\nThe total population of USA is 308.7 million.\n"
     ]
    }
   ],
   "source": [
    "region = [(\"Northwest\",55.3), (\"Midwest\",66.9), (\"South\", 114.6), (\"West\",71.9)]\n",
    "\n",
    "total = 0\n",
    "for i in range(len(region)):\n",
    "    total += region[i][1]\n",
    "\n",
    "print(total)\n",
    "\n",
    "\n",
    "for i in region:\n",
    "    print(\"The population of %s is %s\" %(i[0], i[1]) )\n",
    "print(\"The total population of USA is %0.1f million.\" %total)\n",
    "\n",
    "print(\"\\n\")\n",
    "\n",
    "for i in region:\n",
    "    print(\"The population of {} is {}\".format(i[0], i[1]))\n",
    "print(\"The total population of USA is {0:0.1f} million.\".format(total))"
   ]
  },
  {
   "cell_type": "code",
   "execution_count": 37,
   "metadata": {},
   "outputs": [
    {
     "name": "stdout",
     "output_type": "stream",
     "text": [
      "{9, 3} \n {3, 5, 7} \n {3} \n {1, 3, 5, 6, 7, 9, 12} \n {1, 2, 3, 5, 7, 9} \n {1, 2, 3, 5, 6, 7, 9, 12}\n{1, 5, 7} {1}\n{1, 3, 5, 7, 9, 11}\n{3, 6, 9, 12, 15, 18}\n"
     ]
    }
   ],
   "source": [
    "#4번 문제\n",
    "\n",
    "A = set([1,7,5,3,9])\n",
    "B = set([3,6,9,12])\n",
    "C = set([2,3,5,7])\n",
    "\n",
    "\n",
    "print(A&B, \"\\n\", A&C,\"\\n\", A&B&C,\"\\n\", A|B,\"\\n\", A|C, \"\\n\", A|B|C)\n",
    "\n",
    "print(A-B, A-(B|C))\n",
    "\n",
    "A.add(11)\n",
    "\n",
    "B.update([15,18])\n",
    "\n",
    "print(A)\n",
    "print(B)"
   ]
  },
  {
   "cell_type": "code",
   "execution_count": 29,
   "metadata": {},
   "outputs": [
    {
     "name": "stdout",
     "output_type": "stream",
     "text": [
      "010-8888-1234\n010-9999-2345\n['choi', 'lee', 'park', 'kim']\n['010-2222-3344', '010-9999-2345', '010-0001-5432', '010-8888-1234']\n[('choi', '010-2222-3344'), ('lee', '010-9999-2345'), ('park', '010-0001-5432'), ('kim', '010-8888-1234')]\nNone\n"
     ]
    }
   ],
   "source": [
    "#3번 문제\n",
    "a = {\"kim\":\"010-8888-1234\", \"lee\":\"010-9999-2345\", \"park\":\"010-0001-5432\"}\n",
    "print(a[\"kim\"])\n",
    "print(a.get(\"lee\"))\n",
    "a[\"choi\"] = \"010-2222-3344\"\n",
    "print(list(a.keys()))\n",
    "print(list(a.values()))\n",
    "print(list(a.items()))\n",
    "print(a.get(\"you\"))"
   ]
  },
  {
   "cell_type": "code",
   "execution_count": 25,
   "metadata": {},
   "outputs": [
    {
     "name": "stdout",
     "output_type": "stream",
     "text": [
      "Not Exist\n"
     ]
    }
   ],
   "source": [
    "try:\n",
    "    a[\"you\"]\n",
    "except KeyError:\n",
    "    print(\"Not Exist\")"
   ]
  },
  {
   "cell_type": "code",
   "execution_count": 30,
   "metadata": {},
   "outputs": [
    {
     "name": "stdout",
     "output_type": "stream",
     "text": [
      "[4, 5, 6] [1, 2, 3]\n"
     ]
    }
   ],
   "source": [
    "#4번 문제\n",
    "a= [1,2,3]\n",
    "b= [4,5,6]\n",
    "a,b = b,a\n",
    "print(a,b)"
   ]
  },
  {
   "cell_type": "code",
   "execution_count": 31,
   "metadata": {},
   "outputs": [
    {
     "name": "stdout",
     "output_type": "stream",
     "text": [
      "[4, 5, 6] [1, 2, 3]\n"
     ]
    }
   ],
   "source": [
    "a= [1,2,3]\n",
    "b=[4,5,6]\n",
    "a = b[:]\n",
    "b = [1,2,3]\n",
    "print(a,b)"
   ]
  },
  {
   "cell_type": "code",
   "execution_count": 32,
   "metadata": {},
   "outputs": [
    {
     "name": "stdout",
     "output_type": "stream",
     "text": [
      "[4, 5, 6] [1, 2, 3]\n"
     ]
    }
   ],
   "source": [
    "from copy import copy\n",
    "a=[1,2,3]\n",
    "b=[4,5,6]\n",
    "b = copy(a)\n",
    "a = [4,5,6]\n",
    "print(a,b)"
   ]
  }
 ],
 "metadata": {
  "kernelspec": {
   "display_name": "Python 2",
   "language": "python",
   "name": "python2"
  },
  "language_info": {
   "codemirror_mode": {
    "name": "ipython",
    "version": 2.0
   },
   "file_extension": ".py",
   "mimetype": "text/x-python",
   "name": "python",
   "nbconvert_exporter": "python",
   "pygments_lexer": "ipython2",
   "version": "2.7.6"
  }
 },
 "nbformat": 4,
 "nbformat_minor": 0
}